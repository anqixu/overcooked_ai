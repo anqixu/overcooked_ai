{
 "cells": [
  {
   "cell_type": "code",
   "execution_count": 1,
   "metadata": {},
   "outputs": [],
   "source": [
    "%load_ext autoreload\n",
    "%autoreload 2\n",
    "\n",
    "import os\n",
    "from pathlib import Path\n",
    "\n",
    "from overcooked_ai.dataset_types import DetectionDataset\n",
    "\n",
    "HOME_DIR = Path(os.environ.get(\"HOME\", \"/home/mimic\"))\n",
    "SOURCE_DIR: Path = HOME_DIR / \"Overcooked2_1-1_jpeg/\"\n",
    "ds_gt_path = SOURCE_DIR / \"detection_dataset.mar2025.json\"\n",
    "ds_gt = DetectionDataset.load_from_json(ds_gt_path)"
   ]
  },
  {
   "cell_type": "code",
   "execution_count": 27,
   "metadata": {},
   "outputs": [],
   "source": [
    "# Estimate camera intrinsics and distortion from 2D-3D correspondences using OpenCV\n",
    "\n",
    "import numpy as np\n",
    "import cv2\n",
    "\n",
    "from overcooked_ai.game_maps import world_1_1_tile_object_ids\n",
    "from overcooked_ai.grid_homography import apply_homography, match_euclidean_dist_linear_sum_assignment_xycats\n",
    "from overcooked_ai.dataset_ops import convert_from_annotations_to_frame_coord_xycats, filter_tile_annotations\n",
    "from overcooked_ai.type_conversions import convert_from_world_tiles_to_xycats\n",
    "\n",
    "world_1_1_grid_xycats = convert_from_world_tiles_to_xycats(world_1_1_tile_object_ids)\n",
    "\n",
    "per_entry_frame_space_xys: list[list[tuple[float, float]]] = []\n",
    "per_entry_grid_space_xyzs: list[list[tuple[float, float, float]]] = []\n",
    "\n",
    "for entry in ds_gt.entries[::20]:\n",
    "    # Load homography\n",
    "    H_grid_frame = np.array(entry.H_grid_img_vector).reshape(3, 3)\n",
    "    H_frame_grid = np.linalg.inv(H_grid_frame)\n",
    "\n",
    "    # Convert tile annotations into grid coordinates\n",
    "    tile_frame_xycats = convert_from_annotations_to_frame_coord_xycats(filter_tile_annotations(entry.annotations))\n",
    "    tile_frame_hxys = np.hstack((tile_frame_xycats[:, :2], np.ones((tile_frame_xycats.shape[0], 1))))\n",
    "    tile_grid_hxys = apply_homography(H_frame_grid, tile_frame_hxys)\n",
    "    tile_grid_xycats = np.hstack((tile_grid_hxys[:, :2], tile_frame_xycats[:, 2:]))\n",
    "\n",
    "    # Associate with ground truth tile labels, and construct 2D-3D correspondences\n",
    "    matched_tile_to_gt_idxs = match_euclidean_dist_linear_sum_assignment_xycats(tile_grid_xycats, world_1_1_grid_xycats)\n",
    "    frame_space_xys = []\n",
    "    grid_space_xyzs = []\n",
    "    for tile_idx, gt_idx in matched_tile_to_gt_idxs:\n",
    "        frame_space_xys.append((tile_frame_xycats[tile_idx, 0], tile_frame_xycats[tile_idx, 1]))\n",
    "        grid_space_xyzs.append((world_1_1_grid_xycats[gt_idx, 0], world_1_1_grid_xycats[gt_idx, 1], 0))\n",
    "    per_entry_frame_space_xys.append(np.array(frame_space_xys, dtype=np.float32))\n",
    "    per_entry_grid_space_xyzs.append(np.array(grid_space_xyzs, dtype=np.float32))"
   ]
  },
  {
   "cell_type": "code",
   "execution_count": 41,
   "metadata": {},
   "outputs": [
    {
     "name": "stdout",
     "output_type": "stream",
     "text": [
      "RMS reprojection error:\n",
      " 124.72920472826033\n",
      "Intrinsics matrix:\n",
      " [[1.35160493e+03 0.00000000e+00 9.30096963e+02]\n",
      " [0.00000000e+00 3.63483243e+03 7.63085229e+01]\n",
      " [0.00000000e+00 0.00000000e+00 1.00000000e+00]]\n",
      "Distortion coefficients:\n",
      " [[-1.30185316  1.04378971  0.09903759  0.00381889 -0.30134412]]\n"
     ]
    }
   ],
   "source": [
    "intrinsics_matrix_guess = None\n",
    "distortion_coefficients_guess = None\n",
    "rms_reprojection_error, K, distortion_coefficients, rotation_vectors, translation_vectors = cv2.calibrateCamera(\n",
    "    per_entry_grid_space_xyzs,\n",
    "    per_entry_frame_space_xys,\n",
    "    (entry.width, entry.height),\n",
    "    intrinsics_matrix_guess,\n",
    "    distortion_coefficients_guess,\n",
    ")\n",
    "print(\"RMS reprojection error:\\n\", rms_reprojection_error)\n",
    "print(\"Intrinsics matrix:\\n\", K)\n",
    "print(\"Distortion coefficients:\\n\", distortion_coefficients)"
   ]
  },
  {
   "cell_type": "code",
   "execution_count": 39,
   "metadata": {},
   "outputs": [
    {
     "data": {
      "text/plain": [
       "array([[1.35160493e+03, 0.00000000e+00, 9.30096963e+02],\n",
       "       [0.00000000e+00, 3.63483243e+03, 7.63085229e+01],\n",
       "       [0.00000000e+00, 0.00000000e+00, 1.00000000e+00]])"
      ]
     },
     "execution_count": 39,
     "metadata": {},
     "output_type": "execute_result"
    }
   ],
   "source": [
    "K"
   ]
  },
  {
   "cell_type": "code",
   "execution_count": 87,
   "metadata": {},
   "outputs": [
    {
     "name": "stdout",
     "output_type": "stream",
     "text": [
      "[[ 3.00494939e+03  1.65683449e+02 -5.23914980e+01]\n",
      " [ 0.00000000e+00  9.07505226e+02  2.86990419e+03]\n",
      " [ 0.00000000e+00  0.00000000e+00  1.00000000e+00]]\n"
     ]
    }
   ],
   "source": [
    "# Estimate camera intrinsics using Zhang's method\n",
    "\n",
    "import scipy.linalg\n",
    "\n",
    "def extract_v_ij(H: np.ndarray, i: int, j: int) -> np.ndarray:\n",
    "    v_ij = np.array([\n",
    "        H[0, i] * H[0, j],\n",
    "        H[0, i] * H[1, j] + H[1, i] * H[0, j],\n",
    "        H[1, i] * H[1, j],\n",
    "        H[2, i] * H[0, j] + H[0, i] * H[2, j],\n",
    "        H[2, i] * H[1, j] + H[1, i] * H[2, j],\n",
    "        H[2, i] * H[2, j]\n",
    "    ])\n",
    "    return v_ij\n",
    "\n",
    "B_entries = []\n",
    "for entry in ds_gt.entries:\n",
    "    # Load homography\n",
    "    H_grid_frame = np.array(entry.H_grid_img_vector).reshape(3, 3)\n",
    "    # H_frame_grid = np.linalg.inv(H_grid_frame)\n",
    "    H_frame_grid = H_grid_frame\n",
    "    H_frame_grid /= H_frame_grid[2, 2]\n",
    "\n",
    "    B_entries.append(extract_v_ij(H_frame_grid, 0, 1))\n",
    "    B_entries.append(extract_v_ij(H_frame_grid, 0, 0) - extract_v_ij(H_frame_grid, 1, 1))\n",
    "\n",
    "B_mat = np.array(B_entries)\n",
    "_, _, V = scipy.linalg.svd(B_mat)\n",
    "b_vec = V[-1, :]\n",
    "B = np.array(\n",
    "    [[b_vec[0], b_vec[1], b_vec[3]],\n",
    "     [b_vec[1], b_vec[2], b_vec[4]],\n",
    "     [b_vec[3], b_vec[4], b_vec[5]]])\n",
    "\n",
    "def nearest_positive_definite(A):\n",
    "    \"\"\"Find the nearest positive-definite matrix to A.\"\"\"\n",
    "    B = (A + A.T) / 2\n",
    "    eigvals, eigvecs = np.linalg.eigh(B)\n",
    "    eigvals_clipped = np.clip(eigvals, 1e-8, None)  # force positive\n",
    "    return eigvecs @ np.diag(eigvals_clipped) @ eigvecs.T\n",
    "\n",
    "def compute_K_from_B(B):\n",
    "    B11, B12, B13 = B[0, 0], B[0, 1], B[0, 2]\n",
    "    B22, B23 = B[1, 1], B[1, 2]\n",
    "    B33 = B[2, 2]\n",
    "\n",
    "    v0 = (B12 * B13 - B11 * B23) / (B11 * B22 - B12**2)\n",
    "    λ = B33 - (B13**2 + v0 * (B12 * B13 - B11 * B23)) / B11\n",
    "    α = np.sqrt(λ / B11)\n",
    "    β = np.sqrt(λ * B11 / (B11 * B22 - B12**2))\n",
    "    γ = -B12 * α**2 * β / λ\n",
    "    u0 = γ * v0 / β - B13 * α**2 / λ\n",
    "\n",
    "    K = np.array([\n",
    "        [α, γ, u0],\n",
    "        [0, β, v0],\n",
    "        [0, 0, 1]\n",
    "    ])\n",
    "    return K\n",
    "\n",
    "B = nearest_positive_definite(B)\n",
    "\n",
    "K = compute_K_from_B(B)\n",
    "print(K)\n"
   ]
  }
 ],
 "metadata": {
  "kernelspec": {
   "display_name": "local",
   "language": "python",
   "name": "python3"
  },
  "language_info": {
   "codemirror_mode": {
    "name": "ipython",
    "version": 3
   },
   "file_extension": ".py",
   "mimetype": "text/x-python",
   "name": "python",
   "nbconvert_exporter": "python",
   "pygments_lexer": "ipython3",
   "version": "3.10.12"
  }
 },
 "nbformat": 4,
 "nbformat_minor": 2
}
